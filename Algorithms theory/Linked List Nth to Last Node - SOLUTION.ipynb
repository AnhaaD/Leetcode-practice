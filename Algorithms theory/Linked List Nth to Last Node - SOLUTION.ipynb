Skip to content
This repository
Search
Pull requests
Issues
Marketplace
Explore
 @mozahu91
 Sign out
 Watch 65
  Star 584  Fork 454 jmportilla/Python-for-Algorithms--Data-Structures--and-Interviews
 Code  Issues 4  Pull requests 0  Projects 0  Wiki  Insights
You’re editing a file in a project you don’t have write access to. Submitting a change to this file will write it to a new branch in your fork mozahu91/Python-for-Algorithms--Data-Structures--and-Interviews, so you can send a pull request.
Python-for-Algorithms--Data-Structures--and-Interviews/Linked Lists/Linked Lists Interview Problems/Linked List Interview Problems - SOLUTIONS/ 
Linked List Nth to Last Node - SOLUTION.ipynb
   or cancel
    
 Edit file    Preview changes
1
{
2
 "cells": [
3
  {
4
   "cell_type": "markdown",
5
   "metadata": {},
6
   "source": [
7
    "# Linked List Nth to Last Node - SOLUTION\n",
8
    "\n",
9
    "## Problem Statement\n",
10
    "Write a function that takes a head node and an integer value **n** and then returns the nth to last node in the linked list. For example, given:"
11
   ]
12
  },
13
  {
14
   "cell_type": "code",
15
   "execution_count": 4,
16
   "metadata": {
17
    "collapsed": true
18
   },
19
   "outputs": [],
20
   "source": [
21
    "class Node:\n",
22
    "\n",
23
    "    def __init__(self, value):\n",
24
    "        self.value = value\n",
25
    "        self.nextnode  = None"
26
   ]
27
  },
28
  {
29
   "cell_type": "code",
30
   "execution_count": 6,
31
   "metadata": {
32
    "collapsed": false
33
   },
34
   "outputs": [],
35
   "source": [
36
    "a = Node(1)\n",
37
    "b = Node(2)\n",
38
    "c = Node(3)\n",
39
    "d = Node(4)\n",
40
    "e = Node(5)\n",
41
    "\n",
42
    "a.nextnode = b\n",
43
    "b.nextnode = c\n",
44
    "c.nextnode = d\n",
45
    "d.nextnode = e\n",
46
    "\n",
47
    "# This would return the node d with a value of 4, because its the 2nd to last node.\n",
48
    "target_node = nth_to_last_node(2, a) "
49
   ]
@mozahu91
Propose file change

Update Linked List Nth to Last Node - SOLUTION.ipynb

Add an optional extended description…
Propose file change  Cancel
© 2018 GitHub, Inc.
Terms
Privacy
Security
Status
Help
Contact GitHub
API
Training
Shop
Blog
About
